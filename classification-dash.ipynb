{
 "cells": [
  {
   "cell_type": "markdown",
   "metadata": {},
   "source": [
    "# Introduction\n",
    "\n",
    "For this project, the goal was to develop a binary image classifier using only 400 images (200 smiling and 200 neutral images). Here is a quick look at a sample of images:\n",
    "\n",
    "![Screen Shot 2020-03-09 at 1 59 02 PM](https://user-images.githubusercontent.com/25487881/76243133-3bc43500-620e-11ea-9917-be55e255c94f.png)\n",
    "\n",
    "As you can imagine, the images used to train this model are small black and white face images. To try with your own images, I suggest you try to take picture of just your face. Feeding images of your dog will not generate accurate classification.\n",
    "\n",
    "The current model used is the Resnet34 finetuned on those 400 images. I'm using the FastAI package to do so.\n",
    "\n",
    "<span style='color:red'>Issue: You need to click on `view` before classifying, as it will ensure your image can be used by the classifier.</span>"
   ]
  },
  {
   "cell_type": "code",
   "execution_count": 140,
   "metadata": {},
   "outputs": [],
   "source": [
    "from fastai.vision.all import *\n",
    "from fastai.vision.widgets import *\n",
    "import ipywidgets as widgets\n",
    "from ipywidgets import GridspecLayout\n",
    "import functools\n",
    "import numpy as np\n",
    "learn_inf = load_learner('./notebooks/export.pkl')"
   ]
  },
  {
   "cell_type": "code",
   "execution_count": 7,
   "metadata": {},
   "outputs": [],
   "source": [
    "global img\n",
    "img = None"
   ]
  },
  {
   "cell_type": "code",
   "execution_count": 123,
   "metadata": {},
   "outputs": [],
   "source": [
    "# Define the widgets\n",
    "learn_inf = load_learner('./notebooks/export.pkl')\n",
    "uploader = widgets.FileUpload()\n",
    "button_view = widgets.Button(description='View')\n",
    "out_pl = widgets.Output() # define an output place\n",
    "lbl_pred = widgets.Label()\n",
    "button_clear = widgets.Button(description='Clear')"
   ]
  },
  {
   "cell_type": "code",
   "execution_count": 124,
   "metadata": {},
   "outputs": [],
   "source": [
    "def view_img(btn):\n",
    "    global img\n",
    "    img = PILImage.create(uploader.data[-1])\n",
    "    out_pl.clear_output()\n",
    "    with out_pl:\n",
    "        display(img.to_thumb(128,128))\n",
    "    \n",
    "button_view.on_click(view_img)"
   ]
  },
  {
   "cell_type": "code",
   "execution_count": 125,
   "metadata": {},
   "outputs": [],
   "source": [
    "button_right = widgets.Button(description='Rotate', icon='redo',button_style='info')\n",
    "button_left = widgets.Button(description='Rotate', icon='undo',button_style='info')\n",
    "button_original = widgets.Button(description='Original',button_style='success')\n",
    "button_flip = widgets.Button(description='Flip', button_style='info')"
   ]
  },
  {
   "cell_type": "code",
   "execution_count": 126,
   "metadata": {},
   "outputs": [],
   "source": [
    "def on_click_rotate(button, degree=90):\n",
    "    \n",
    "    global img\n",
    "    img = PILImage.create(uploader.data[-1])\n",
    "    img = img.rotate(degree)\n",
    "    out_pl.clear_output()\n",
    "    with out_pl:\n",
    "        display(img.to_thumb(128,128))\n",
    "        \n",
    "button_right.on_click(functools.partial(on_click_rotate, degree=-90))\n",
    "button_left.on_click(functools.partial(on_click_rotate, degree=90))\n",
    "button_original.on_click(functools.partial(on_click_rotate, degree=360))\n",
    "button_flip.on_click(functools.partial(on_click_rotate, degree=180))"
   ]
  },
  {
   "cell_type": "code",
   "execution_count": 127,
   "metadata": {},
   "outputs": [],
   "source": [
    "def on_click_classify(button):\n",
    "    \n",
    "    pred,pred_idx,probs = learn_inf.predict(PILImage.create(np.array(img.getchannel(1))))\n",
    "    lbl_pred.value = f'Prediction: {pred}; Probability: {probs[pred_idx]:.04f}'\n",
    "\n",
    "button_pred = widgets.Button(description='Classify')\n",
    "\n",
    "button_pred.on_click(on_click_classify)"
   ]
  },
  {
   "cell_type": "code",
   "execution_count": 128,
   "metadata": {},
   "outputs": [],
   "source": [
    "def clear_upload(button):\n",
    "    uploader.value.clear()\n",
    "    uploader._counter = 0\n",
    "button_clear.on_click(clear_upload)"
   ]
  },
  {
   "cell_type": "code",
   "execution_count": 129,
   "metadata": {},
   "outputs": [
    {
     "data": {
      "application/vnd.jupyter.widget-view+json": {
       "model_id": "7f97dffc32424809a53b6c9dcb48913d",
       "version_major": 2,
       "version_minor": 0
      },
      "text/plain": [
       "VBox(children=(HBox(children=(FileUpload(value={}, description='Upload'), Button(description='View', style=But…"
      ]
     },
     "metadata": {},
     "output_type": "display_data"
    }
   ],
   "source": [
    "VBox([HBox([uploader,button_view,button_clear]),out_pl])"
   ]
  },
  {
   "cell_type": "code",
   "execution_count": 130,
   "metadata": {},
   "outputs": [
    {
     "data": {
      "application/vnd.jupyter.widget-view+json": {
       "model_id": "438431af5cea46e3966f81ec56f6286a",
       "version_major": 2,
       "version_minor": 0
      },
      "text/plain": [
       "Label(value='Rearange Picture from import')"
      ]
     },
     "metadata": {},
     "output_type": "display_data"
    }
   ],
   "source": [
    "widgets.Label('Rearange Picture from import')"
   ]
  },
  {
   "cell_type": "code",
   "execution_count": 131,
   "metadata": {},
   "outputs": [
    {
     "data": {
      "application/vnd.jupyter.widget-view+json": {
       "model_id": "b79a6891b57648fe9b50022db198f10f",
       "version_major": 2,
       "version_minor": 0
      },
      "text/plain": [
       "HBox(children=(Button(button_style='info', description='Rotate', icon='undo', style=ButtonStyle()), Button(but…"
      ]
     },
     "metadata": {},
     "output_type": "display_data"
    }
   ],
   "source": [
    "HBox([button_left, button_original,button_flip, button_right])"
   ]
  },
  {
   "cell_type": "code",
   "execution_count": 132,
   "metadata": {},
   "outputs": [
    {
     "data": {
      "application/vnd.jupyter.widget-view+json": {
       "model_id": "dcb83122a5ef4b8e95fd52071c82bbfc",
       "version_major": 2,
       "version_minor": 0
      },
      "text/plain": [
       "Label(value='')"
      ]
     },
     "metadata": {},
     "output_type": "display_data"
    }
   ],
   "source": [
    "lbl_pred"
   ]
  },
  {
   "cell_type": "code",
   "execution_count": 133,
   "metadata": {},
   "outputs": [
    {
     "data": {
      "application/vnd.jupyter.widget-view+json": {
       "model_id": "190fd6bcd2244357869be848039f5d14",
       "version_major": 2,
       "version_minor": 0
      },
      "text/plain": [
       "Button(description='Classify', style=ButtonStyle())"
      ]
     },
     "metadata": {},
     "output_type": "display_data"
    }
   ],
   "source": [
    "button_pred"
   ]
  },
  {
   "cell_type": "markdown",
   "metadata": {},
   "source": [
    "<br>\n",
    "<br>\n",
    "<br>\n",
    "<br>\n",
    "\n",
    "# How was this created?\n",
    "\n",
    "It was created using Voilà and Binder!\n",
    "\n",
    "Made by Justin Charbonneau\n",
    "\n",
    "<br>\n",
    "<br>\n",
    "<br>\n"
   ]
  },
  {
   "cell_type": "code",
   "execution_count": 134,
   "metadata": {},
   "outputs": [],
   "source": [
    "# def open_link(button):\n",
    "#     link = widgets.HTML(value=\"<a href=http://www.google. \\\n",
    "# com target='_blank'>Go to Google</a>\")\n",
    "#     display(link)"
   ]
  },
  {
   "cell_type": "code",
   "execution_count": 135,
   "metadata": {},
   "outputs": [],
   "source": [
    "# code_btn.on_click(open_link)"
   ]
  },
  {
   "cell_type": "code",
   "execution_count": 136,
   "metadata": {},
   "outputs": [],
   "source": [
    "# code_btn = widgets.Button(description='View my code!',icon='github')"
   ]
  },
  {
   "cell_type": "code",
   "execution_count": 137,
   "metadata": {},
   "outputs": [],
   "source": [
    "# code_btn"
   ]
  },
  {
   "cell_type": "code",
   "execution_count": 138,
   "metadata": {},
   "outputs": [],
   "source": [
    "github = widgets.HTML(\n",
    "    value=\"<a href=https://github.com/JustinCharbonneau/Smile-Detection target='_blank'><span style='color:#F77737'>View my code!</span></a>\")\n",
    "\n",
    "linkedin = widgets.HTML(\n",
    "    value=\"<a href=https://www.linkedin.com/in/charbonneaujustin/ target='_blank'><span style='color:#405DE6'>Let's connect!</span></a>\")\n",
    "\n",
    "ig = widgets.HTML(\n",
    "    value=\"<a href=https://www.instagram.com/data_culture/ target='_blank'><span style='color:#5851DB'>My Instagram!</span></a>\")"
   ]
  },
  {
   "cell_type": "code",
   "execution_count": 141,
   "metadata": {},
   "outputs": [
    {
     "data": {
      "application/vnd.jupyter.widget-view+json": {
       "model_id": "e6b9d760d000409080f4e7aa4d574c05",
       "version_major": 2,
       "version_minor": 0
      },
      "text/plain": [
       "GridspecLayout(children=(HTML(value=\"<a href=https://www.linkedin.com/in/charbonneaujustin/ target='_blank'><s…"
      ]
     },
     "metadata": {},
     "output_type": "display_data"
    }
   ],
   "source": [
    "grid = GridspecLayout(1, 3)\n",
    "\n",
    "grid[0,0] = linkedin\n",
    "grid[0,1] = github\n",
    "grid[0,2] = ig\n",
    "\n",
    "grid"
   ]
  },
  {
   "cell_type": "code",
   "execution_count": null,
   "metadata": {},
   "outputs": [],
   "source": []
  }
 ],
 "metadata": {
  "kernelspec": {
   "display_name": "Python 3",
   "language": "python",
   "name": "python3"
  },
  "language_info": {
   "codemirror_mode": {
    "name": "ipython",
    "version": 3
   },
   "file_extension": ".py",
   "mimetype": "text/x-python",
   "name": "python",
   "nbconvert_exporter": "python",
   "pygments_lexer": "ipython3",
   "version": "3.7.8"
  }
 },
 "nbformat": 4,
 "nbformat_minor": 4
}
